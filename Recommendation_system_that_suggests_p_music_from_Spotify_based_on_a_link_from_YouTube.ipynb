{
  "nbformat": 4,
  "nbformat_minor": 0,
  "metadata": {
    "colab": {
      "provenance": [],
      "authorship_tag": "ABX9TyM1PWIQBEsdjgDw/nvm55a3",
      "include_colab_link": true
    },
    "kernelspec": {
      "name": "python3",
      "display_name": "Python 3"
    },
    "language_info": {
      "name": "python"
    }
  },
  "cells": [
    {
      "cell_type": "markdown",
      "metadata": {
        "id": "view-in-github",
        "colab_type": "text"
      },
      "source": [
        "<a href=\"https://colab.research.google.com/github/SoroushJamali/Recommendation_system_that_suggests_p_music_from_Spotify_based_on_a_link_from_YouTube/blob/main/Recommendation_system_that_suggests_p_music_from_Spotify_based_on_a_link_from_YouTube.ipynb\" target=\"_parent\"><img src=\"https://colab.research.google.com/assets/colab-badge.svg\" alt=\"Open In Colab\"/></a>"
      ]
    },
    {
      "cell_type": "markdown",
      "source": [
        "**Step 1**: Collect data from YouTube and Spotify APIs\n",
        "\n",
        "Use the YouTube API to get the title and artist name from the YouTube video link\n",
        "Use the Spotify API to search for the track using the title and artist name and get the track ID\n",
        "\n",
        "**Step 2**: Retrieve related tracks from Spotify\n",
        "\n",
        "Use the track ID to get the track's audio features (e.g., danceability, energy, loudness, etc.) from the Spotify API\n",
        "Use the audio features to find similar tracks using the Spotify API's recommendation endpoint\n",
        "\n",
        "**Step 3**: Output recommendations\n",
        "\n",
        "Return a list of p recommended tracks along with their Spotify IDs and preview URLs\n",
        "Here is the Python code that implements the above steps:"
      ],
      "metadata": {
        "id": "21ZAJBlK5yM7"
      }
    },
    {
      "cell_type": "markdown",
      "source": [
        "These are Python libraries that we'll use in the code to make HTTP requests and handle JSON data."
      ],
      "metadata": {
        "id": "B7TA6TMA6paq"
      }
    },
    {
      "cell_type": "code",
      "source": [
        "!pip install python-dotenv\n",
        "!pip install spotipy\n"
      ],
      "metadata": {
        "colab": {
          "base_uri": "https://localhost:8080/"
        },
        "id": "YC2V11RHKk8a",
        "outputId": "cd848fa4-f14f-4750-a44f-11ca758c4d65"
      },
      "execution_count": 1,
      "outputs": [
        {
          "output_type": "stream",
          "name": "stdout",
          "text": [
            "Looking in indexes: https://pypi.org/simple, https://us-python.pkg.dev/colab-wheels/public/simple/\n",
            "Collecting python-dotenv\n",
            "  Downloading python_dotenv-1.0.0-py3-none-any.whl (19 kB)\n",
            "Installing collected packages: python-dotenv\n",
            "Successfully installed python-dotenv-1.0.0\n",
            "Looking in indexes: https://pypi.org/simple, https://us-python.pkg.dev/colab-wheels/public/simple/\n",
            "Collecting spotipy\n",
            "  Downloading spotipy-2.22.1-py3-none-any.whl (28 kB)\n",
            "Requirement already satisfied: requests>=2.25.0 in /usr/local/lib/python3.9/dist-packages (from spotipy) (2.25.1)\n",
            "Requirement already satisfied: six>=1.15.0 in /usr/local/lib/python3.9/dist-packages (from spotipy) (1.15.0)\n",
            "Requirement already satisfied: urllib3>=1.26.0 in /usr/local/lib/python3.9/dist-packages (from spotipy) (1.26.14)\n",
            "Collecting redis>=3.5.3\n",
            "  Downloading redis-4.5.1-py3-none-any.whl (238 kB)\n",
            "\u001b[2K     \u001b[90m━━━━━━━━━━━━━━━━━━━━━━━━━━━━━━━━━━━━━━━\u001b[0m \u001b[32m238.5/238.5 KB\u001b[0m \u001b[31m3.8 MB/s\u001b[0m eta \u001b[36m0:00:00\u001b[0m\n",
            "\u001b[?25hCollecting async-timeout>=4.0.2\n",
            "  Downloading async_timeout-4.0.2-py3-none-any.whl (5.8 kB)\n",
            "Requirement already satisfied: chardet<5,>=3.0.2 in /usr/local/lib/python3.9/dist-packages (from requests>=2.25.0->spotipy) (4.0.0)\n",
            "Requirement already satisfied: idna<3,>=2.5 in /usr/local/lib/python3.9/dist-packages (from requests>=2.25.0->spotipy) (2.10)\n",
            "Requirement already satisfied: certifi>=2017.4.17 in /usr/local/lib/python3.9/dist-packages (from requests>=2.25.0->spotipy) (2022.12.7)\n",
            "Installing collected packages: async-timeout, redis, spotipy\n",
            "Successfully installed async-timeout-4.0.2 redis-4.5.1 spotipy-2.22.1\n"
          ]
        }
      ]
    },
    {
      "cell_type": "code",
      "execution_count": 2,
      "metadata": {
        "id": "iL5GGiaJ5rbD"
      },
      "outputs": [],
      "source": [
        "import requests\n",
        "import json\n",
        "from dotenv import load_dotenv\n",
        "import os\n",
        "import base64\n",
        "from requests import post\n",
        "import spotipy\n",
        "from spotipy.oauth2 import SpotifyOAuth\n",
        "from spotipy.oauth2 import SpotifyClientCredentials"
      ]
    },
    {
      "cell_type": "markdown",
      "source": [
        "This is the API key that we'll use to authenticate our requests to the YouTube API. You'll need to replace \"YOUR_YOUTUBE_API_KEY\" with your own YouTube API key."
      ],
      "metadata": {
        "id": "q_QBkEd963DR"
      }
    },
    {
      "cell_type": "markdown",
      "source": [
        "--------------------------"
      ],
      "metadata": {
        "id": "sLYmOYl4-Q1a"
      }
    },
    {
      "cell_type": "markdown",
      "source": [
        "Step-by-step instructions to get YouTube API credentials:\n",
        "\n",
        "1. Go to the Google Developers Console at https://console.developers.google.com/.\n",
        "\n",
        "2. Click on the \"Select a project\" dropdown in the top bar, and click on \"New Project\". Give your project a name and click \"Create\".\n",
        "3. Once your project is created, click on the \"Dashboard\" link in the left sidebar.\n",
        "\n",
        "4. Click on the \"+ ENABLE APIS AND SERVICES\" button at the top of the Dashboard page.\n",
        "\n",
        "5. Search for \"YouTube Data API v3\", and click on the API in the search results.\n",
        "\n",
        "6. Click on the \"Enable\" button to enable the YouTube API for your project.\n",
        "\n",
        "7. Click on the \"Create credentials\" button in the top bar.\n",
        "\n",
        "8. Select \"API key\" from the dropdown.\n",
        "\n",
        "9. You may be prompted to configure the API key. You can leave the settings at their default values and click \"Create\".\n",
        "\n",
        "10. Your API key will be displayed on the screen. Copy this key to use in your code.\n",
        "\n",
        "That's it! With these steps, you should now have a valid YouTube API key that you can use in your code."
      ],
      "metadata": {
        "id": "KeDb_Yj98hxy"
      }
    },
    {
      "cell_type": "code",
      "source": [
        "# YouTube API credentials\n",
        "youtube_api_key = \"..............................\" #\"YOUR_YOUTUBE_API_KEY\""
      ],
      "metadata": {
        "id": "ThQ75SmA6Fwa"
      },
      "execution_count": 3,
      "outputs": []
    },
    {
      "cell_type": "markdown",
      "source": [
        "These are the client ID and client secret that we'll use to authenticate our requests to the Spotify API. You'll need to replace \"YOUR_SPOTIFY_CLIENT_ID\" and \"YOUR_SPOTIFY_CLIENT_SECRET\" with your own Spotify client ID and client secret."
      ],
      "metadata": {
        "id": "vonrrTSQ6_rh"
      }
    },
    {
      "cell_type": "markdown",
      "source": [
        "----------------------"
      ],
      "metadata": {
        "id": "r0gVcG17-S5y"
      }
    },
    {
      "cell_type": "markdown",
      "source": [
        "Step-by-step procedure to get Spotify API credentials:\n",
        "\n",
        "1. Go to the Spotify Developer Dashboard at https://developer.spotify.com/dashboard/.\n",
        "2. Click on the \"Create an App\" button.\n",
        "3. Fill in the required fields for your new app, including a name and description. You can also add optional information like a website and logo if you have them. Click \"Create\".\n",
        "4. On the next page, click on the \"Edit Settings\" button.\n",
        "5. Add a Redirect URI in the \"Redirect URIs\" section. This can be any valid URL - for example, you can use http://localhost:8888/callback if you're testing locally. Click \"Save\".\n",
        "6. Note down the \"Client ID\" and \"Client Secret\" values on the next page. These will be used to authenticate your requests to the Spotify API.\n",
        "\n",
        "That's it! With these steps, you should now have a valid Spotify client ID and client secret that you can use in your code."
      ],
      "metadata": {
        "id": "7vQucYcw9Y3L"
      }
    },
    {
      "cell_type": "code",
      "source": [
        "# Spotify API credentials\n",
        "client_id = '......................' #\"YOUR_SPOTIFY_CLIENT_ID\"\n",
        "client_secret = '..................' #\"YOUR_SPOTIFY_CLIENT_SECRET\"\n",
        "client_credentials_manager = SpotifyClientCredentials(\n",
        "    client_id=client_id, client_secret=client_secret\n",
        ")\n",
        "sp = spotipy.Spotify(client_credentials_manager=client_credentials_manager)\n"
      ],
      "metadata": {
        "id": "R61Q8vFU66uh"
      },
      "execution_count": 4,
      "outputs": []
    },
    {
      "cell_type": "markdown",
      "source": [
        "This is the YouTube video link that we'll use to search for a track on Spotify. You'll need to replace \"YOUR_YOUTUBE_VIDEO_LINK\" with the YouTube video link you want to use."
      ],
      "metadata": {
        "id": "bgL-NTDM7Ads"
      }
    },
    {
      "cell_type": "code",
      "source": [
        "# YouTube video link\n",
        "youtube_link = \"https://www.youtube.com/watch?v=pAgnJDJN4VA\"#\"YOUR_YOUTUBE_VIDEO_LINK\""
      ],
      "metadata": {
        "id": "deSRKVqi66qh"
      },
      "execution_count": 5,
      "outputs": []
    },
    {
      "cell_type": "code",
      "source": [
        "# Number of recommendations to return\n",
        "p = 10"
      ],
      "metadata": {
        "id": "NwDjK1MA69jj"
      },
      "execution_count": 6,
      "outputs": []
    },
    {
      "cell_type": "code",
      "source": [
        "\n",
        "# Step 1: Collect data from YouTube and Spotify APIs\n",
        "# Get video information from YouTube API\n",
        "video_id = youtube_link.split(\"v=\")[1]\n",
        "url = f\"https://www.googleapis.com/youtube/v3/videos?id={video_id}&part=snippet&key={youtube_api_key}\"\n",
        "response = requests.get(url)\n",
        "data = json.loads(response.text)\n",
        "title = data[\"items\"][0][\"snippet\"][\"title\"]\n",
        "artist = data[\"items\"][0][\"snippet\"][\"channelTitle\"]"
      ],
      "metadata": {
        "id": "ZBwosVT56Ft7"
      },
      "execution_count": 7,
      "outputs": []
    },
    {
      "cell_type": "code",
      "source": [
        "# Search for track on Spotify API\n",
        "url = \"https://accounts.spotify.com/api/token\"\n",
        "data = {\"grant_type\": \"client_credentials\"}\n",
        "response = requests.post(url, data=data, auth=(client_id, client_secret))\n",
        "access_token = json.loads(response.text)[\"access_token\"]"
      ],
      "metadata": {
        "id": "VasbT2_C6MOi"
      },
      "execution_count": 8,
      "outputs": []
    },
    {
      "cell_type": "code",
      "source": [
        "title"
      ],
      "metadata": {
        "colab": {
          "base_uri": "https://localhost:8080/",
          "height": 35
        },
        "id": "BQty7th_bFu1",
        "outputId": "de0d7287-7a1b-400e-f9fe-9e240a07d3ac"
      },
      "execution_count": 13,
      "outputs": [
        {
          "output_type": "execute_result",
          "data": {
            "text/plain": [
              "'AC/DC - Back In Black (Official Video)'"
            ],
            "application/vnd.google.colaboratory.intrinsic+json": {
              "type": "string"
            }
          },
          "metadata": {},
          "execution_count": 13
        }
      ]
    },
    {
      "cell_type": "markdown",
      "source": [
        "Here, we use the access token to search the Spotify API for recommended tracks based on the video's title and artist name. We construct a dictionary of headers to include our access token in the HTTP request, and create a query string with the video's title and artist name. We construct a URL to the Spotify API's search endpoint, with our query and limit parameters included. We make an HTTP GET request to the API using the requests library, with our authentication credentials included. We parse the JSON response using the json library, and extract the recommended tracks from the response data."
      ],
      "metadata": {
        "id": "OHbo1ahi7ORx"
      }
    },
    {
      "cell_type": "code",
      "source": [
        "# Search for ACDC on Spotify\n",
        "results = sp.search(q=title, type=\"track\")\n",
        "# Print the artist name and ID for each result\n",
        "track_id = []\n",
        "for artist in results[\"tracks\"][\"items\"]:\n",
        "    print(f\"{artist['name']} - {artist['id']}\")\n",
        "    track_id.append(artist['id'])"
      ],
      "metadata": {
        "colab": {
          "base_uri": "https://localhost:8080/"
        },
        "id": "RxkhiXAbiRJk",
        "outputId": "8567936f-d3d0-4bcb-eb33-4fa4335d42e5"
      },
      "execution_count": 50,
      "outputs": [
        {
          "output_type": "stream",
          "name": "stdout",
          "text": [
            "Back In Black - 08mG3Y1vljYA6bvDt4Wqkj\n",
            "Shoot to Thrill - 0C80GCp0mMuBzLf3EAXqxv\n",
            "Back In Blood (feat. Lil Durk) - 7JuHVG3qQKQKxC4doneXVW\n",
            "Back In Blood (feat. Lil Durk) - 7FGdjbZ32vMybPuP0IuE7d\n",
            "Hells Bells - 69QHm3pustz01CJRwdo20z\n",
            "Back In Black - 2iEGj7kAwH7HAa5epwYwLB\n",
            "Back In Black - Live - 1991 - 5dvfYJR8yXaO9SHtqJWeL5\n",
            "Rock N Roll Train - 4feXJ5IC3avXsVW9WNFSag\n",
            "Back In Black - Live at River Plate Stadium, Buenos Aires, Argentina - December 2009 - 7JLqofLzcpdjFHc6oRSBGf\n",
            "Rock and Roll Ain't Noise Pollution - 6J17MkMmuzBiIOjRH6MOBZ\n"
          ]
        }
      ]
    },
    {
      "cell_type": "code",
      "source": [
        "headers = {\"Authorization\": f\"Bearer {access_token}\"}"
      ],
      "metadata": {
        "id": "C8ZcqDGr6MLy"
      },
      "execution_count": 53,
      "outputs": []
    },
    {
      "cell_type": "code",
      "source": [
        "# define the track ID for which you want to retrieve the audio features\n",
        "track_id_test = \"08mG3Y1vljYA6bvDt4Wqkj\"\n",
        "\n",
        "# retrieve the audio features for the track\n",
        "audio_features = sp.audio_features(tracks=track_id_test)\n",
        "\n",
        "# print out the audio features for the track\n",
        "print(audio_features)"
      ],
      "metadata": {
        "colab": {
          "base_uri": "https://localhost:8080/"
        },
        "id": "hgeUMhOHl_nd",
        "outputId": "4db87248-ff7e-448c-a19a-d0754c2484cd"
      },
      "execution_count": 54,
      "outputs": [
        {
          "output_type": "stream",
          "name": "stdout",
          "text": [
            "[{'danceability': 0.31, 'energy': 0.7, 'key': 9, 'loudness': -5.678, 'mode': 1, 'speechiness': 0.047, 'acousticness': 0.011, 'instrumentalness': 0.00965, 'liveness': 0.0828, 'valence': 0.763, 'tempo': 188.386, 'type': 'audio_features', 'id': '08mG3Y1vljYA6bvDt4Wqkj', 'uri': 'spotify:track:08mG3Y1vljYA6bvDt4Wqkj', 'track_href': 'https://api.spotify.com/v1/tracks/08mG3Y1vljYA6bvDt4Wqkj', 'analysis_url': 'https://api.spotify.com/v1/audio-analysis/08mG3Y1vljYA6bvDt4Wqkj', 'duration_ms': 255493, 'time_signature': 4}]\n"
          ]
        }
      ]
    },
    {
      "cell_type": "code",
      "source": [
        "# Step 2: Retrieve related tracks from Spotify\n",
        "# Get audio features for track\n",
        "results = sp.audio_features(tracks=track_id[0])\n",
        "url = f\"https://api.spotify.com/v1/audio-features/{track_id[0]}\"\n",
        "response = requests.get(url, headers=headers)\n",
        "data = json.loads(response.text)\n",
        "audio_features = [\"danceability\", \"energy\", \"key\", \"loudness\", \"mode\", \"speechiness\", \"acousticness\", \"instrumentalness\", \"liveness\", \"valence\", \"tempo\", \"duration_ms\"]\n"
      ],
      "metadata": {
        "id": "a1hl_oca6FrS"
      },
      "execution_count": 66,
      "outputs": []
    },
    {
      "cell_type": "code",
      "source": [
        "data"
      ],
      "metadata": {
        "colab": {
          "base_uri": "https://localhost:8080/"
        },
        "id": "-4iq6mY8l67v",
        "outputId": "77959098-1ca4-4a7e-80e2-3fb0d4e8eece"
      },
      "execution_count": 52,
      "outputs": [
        {
          "output_type": "execute_result",
          "data": {
            "text/plain": [
              "{'danceability': 0.31,\n",
              " 'energy': 0.7,\n",
              " 'key': 9,\n",
              " 'loudness': -5.678,\n",
              " 'mode': 1,\n",
              " 'speechiness': 0.047,\n",
              " 'acousticness': 0.011,\n",
              " 'instrumentalness': 0.00965,\n",
              " 'liveness': 0.0828,\n",
              " 'valence': 0.763,\n",
              " 'tempo': 188.386,\n",
              " 'type': 'audio_features',\n",
              " 'id': '08mG3Y1vljYA6bvDt4Wqkj',\n",
              " 'uri': 'spotify:track:08mG3Y1vljYA6bvDt4Wqkj',\n",
              " 'track_href': 'https://api.spotify.com/v1/tracks/08mG3Y1vljYA6bvDt4Wqkj',\n",
              " 'analysis_url': 'https://api.spotify.com/v1/audio-analysis/08mG3Y1vljYA6bvDt4Wqkj',\n",
              " 'duration_ms': 255493,\n",
              " 'time_signature': 4}"
            ]
          },
          "metadata": {},
          "execution_count": 52
        }
      ]
    },
    {
      "cell_type": "code",
      "source": [
        "for feature in audio_features:\n",
        "  print(feature)"
      ],
      "metadata": {
        "colab": {
          "base_uri": "https://localhost:8080/"
        },
        "id": "pvria8B2fHFg",
        "outputId": "dcb50237-5ac6-45a1-9e00-07d873719703"
      },
      "execution_count": 67,
      "outputs": [
        {
          "output_type": "stream",
          "name": "stdout",
          "text": [
            "danceability\n",
            "energy\n",
            "key\n",
            "loudness\n",
            "mode\n",
            "speechiness\n",
            "acousticness\n",
            "instrumentalness\n",
            "liveness\n",
            "valence\n",
            "tempo\n",
            "duration_ms\n"
          ]
        }
      ]
    },
    {
      "cell_type": "code",
      "source": [
        "# Get related tracks from Spotify API's recommendation endpoint\n",
        "url = \"https://api.spotify.com/v1/recommendations\"\n",
        "params = {\"seed_tracks\": track_id, \"limit\": p}\n",
        "for feature in audio_features:\n",
        "    value = data[feature]\n",
        "    if feature == \"key\":\n",
        "        value = int(value)\n",
        "    params[f\"target_{feature}\"] = value\n",
        "\n",
        "response = requests.get(url, headers=headers, params=params)\n",
        "data = json.loads(response.text)\n",
        "recommendations = [(track[\"name\"], track[\"id\"], track[\"preview_url\"]) for track in data[\"tracks\"]]\n"
      ],
      "metadata": {
        "id": "INvtTqt16SB6"
      },
      "execution_count": 68,
      "outputs": []
    },
    {
      "cell_type": "markdown",
      "source": [
        "Finally, we print the recommended tracks to the console, with their names, artists, and Spotify URLs. We use a for loop to iterate over each recommended track, and use f-strings to format the output. We use the enumerate function to include a track number in the output."
      ],
      "metadata": {
        "id": "MdUbkOrc7SFF"
      }
    },
    {
      "cell_type": "code",
      "source": [
        "# Step 3: Output recommendations\n",
        "print(f\"Here are {p} recommended tracks based on {title} by {artist}:\")\n",
        "for i, (name, id, preview_url) in enumerate(recommendations):\n",
        "    print(f\"{i+1}. {name} (Spotify ID: {id}, Preview URL: {preview_url})\")"
      ],
      "metadata": {
        "colab": {
          "base_uri": "https://localhost:8080/"
        },
        "id": "Mw-qSxt56R_a",
        "outputId": "1954de12-2b60-46de-ed5d-9dccf42e1c98"
      },
      "execution_count": 70,
      "outputs": [
        {
          "output_type": "stream",
          "name": "stdout",
          "text": [
            "Here are 10 recommended tracks based on AC/DC - Back In Black (Official Video) by {'album': {'album_group': 'album', 'album_type': 'album', 'artists': [{'external_urls': {'spotify': 'https://open.spotify.com/artist/711MCceyCBcFnzjGY4Q7Un'}, 'href': 'https://api.spotify.com/v1/artists/711MCceyCBcFnzjGY4Q7Un', 'id': '711MCceyCBcFnzjGY4Q7Un', 'name': 'AC/DC', 'type': 'artist', 'uri': 'spotify:artist:711MCceyCBcFnzjGY4Q7Un'}], 'available_markets': ['AD', 'AE', 'AG', 'AL', 'AM', 'AO', 'AR', 'AT', 'AU', 'AZ', 'BA', 'BB', 'BD', 'BE', 'BF', 'BG', 'BH', 'BI', 'BJ', 'BN', 'BO', 'BR', 'BS', 'BT', 'BW', 'BY', 'BZ', 'CA', 'CD', 'CG', 'CH', 'CI', 'CL', 'CM', 'CO', 'CR', 'CV', 'CW', 'CY', 'CZ', 'DE', 'DJ', 'DK', 'DM', 'DO', 'DZ', 'EC', 'EE', 'EG', 'ES', 'FI', 'FJ', 'FM', 'FR', 'GA', 'GB', 'GD', 'GE', 'GH', 'GM', 'GN', 'GQ', 'GR', 'GT', 'GW', 'GY', 'HK', 'HN', 'HR', 'HT', 'HU', 'ID', 'IE', 'IL', 'IN', 'IQ', 'IS', 'IT', 'JM', 'JO', 'JP', 'KE', 'KG', 'KH', 'KI', 'KM', 'KN', 'KR', 'KW', 'KZ', 'LA', 'LB', 'LC', 'LI', 'LK', 'LR', 'LS', 'LT', 'LU', 'LV', 'LY', 'MA', 'MC', 'MD', 'ME', 'MG', 'MH', 'MK', 'ML', 'MN', 'MO', 'MR', 'MT', 'MU', 'MV', 'MW', 'MX', 'MY', 'MZ', 'NA', 'NE', 'NG', 'NI', 'NL', 'NO', 'NP', 'NR', 'NZ', 'OM', 'PA', 'PE', 'PG', 'PH', 'PK', 'PL', 'PS', 'PT', 'PW', 'PY', 'QA', 'RO', 'RS', 'RW', 'SA', 'SB', 'SC', 'SE', 'SG', 'SI', 'SK', 'SL', 'SM', 'SN', 'SR', 'ST', 'SV', 'SZ', 'TD', 'TG', 'TH', 'TJ', 'TL', 'TN', 'TO', 'TR', 'TT', 'TV', 'TW', 'TZ', 'UA', 'UG', 'US', 'UY', 'UZ', 'VC', 'VE', 'VN', 'VU', 'WS', 'XK', 'ZA', 'ZM', 'ZW'], 'external_urls': {'spotify': 'https://open.spotify.com/album/6mUdeDZCsExyJLMdAfDuwh'}, 'href': 'https://api.spotify.com/v1/albums/6mUdeDZCsExyJLMdAfDuwh', 'id': '6mUdeDZCsExyJLMdAfDuwh', 'images': [{'height': 640, 'url': 'https://i.scdn.co/image/ab67616d0000b2730b51f8d91f3a21e8426361ae', 'width': 640}, {'height': 300, 'url': 'https://i.scdn.co/image/ab67616d00001e020b51f8d91f3a21e8426361ae', 'width': 300}, {'height': 64, 'url': 'https://i.scdn.co/image/ab67616d000048510b51f8d91f3a21e8426361ae', 'width': 64}], 'is_playable': True, 'name': 'Back In Black', 'release_date': '1980-07-25', 'release_date_precision': 'day', 'total_tracks': 10, 'type': 'album', 'uri': 'spotify:album:6mUdeDZCsExyJLMdAfDuwh'}, 'artists': [{'external_urls': {'spotify': 'https://open.spotify.com/artist/711MCceyCBcFnzjGY4Q7Un'}, 'href': 'https://api.spotify.com/v1/artists/711MCceyCBcFnzjGY4Q7Un', 'id': '711MCceyCBcFnzjGY4Q7Un', 'name': 'AC/DC', 'type': 'artist', 'uri': 'spotify:artist:711MCceyCBcFnzjGY4Q7Un'}], 'available_markets': ['AR', 'AU', 'AT', 'BE', 'BO', 'BR', 'BG', 'CA', 'CL', 'CO', 'CR', 'CY', 'CZ', 'DK', 'DO', 'DE', 'EC', 'EE', 'SV', 'FI', 'FR', 'GR', 'GT', 'HN', 'HK', 'HU', 'IS', 'IE', 'IT', 'LV', 'LT', 'LU', 'MY', 'MT', 'MX', 'NL', 'NZ', 'NI', 'NO', 'PA', 'PY', 'PE', 'PH', 'PL', 'PT', 'SG', 'SK', 'ES', 'SE', 'CH', 'TW', 'TR', 'UY', 'US', 'GB', 'AD', 'LI', 'MC', 'ID', 'JP', 'TH', 'VN', 'RO', 'IL', 'ZA', 'SA', 'AE', 'BH', 'QA', 'OM', 'KW', 'EG', 'MA', 'DZ', 'TN', 'LB', 'JO', 'PS', 'IN', 'BY', 'KZ', 'MD', 'UA', 'AL', 'BA', 'HR', 'ME', 'MK', 'RS', 'SI', 'KR', 'BD', 'PK', 'LK', 'GH', 'KE', 'NG', 'TZ', 'UG', 'AG', 'AM', 'BS', 'BB', 'BZ', 'BT', 'BW', 'BF', 'CV', 'CW', 'DM', 'FJ', 'GM', 'GE', 'GD', 'GW', 'GY', 'HT', 'JM', 'KI', 'LS', 'LR', 'MW', 'MV', 'ML', 'MH', 'FM', 'NA', 'NR', 'NE', 'PW', 'PG', 'WS', 'SM', 'ST', 'SN', 'SC', 'SL', 'SB', 'KN', 'LC', 'VC', 'SR', 'TL', 'TO', 'TT', 'TV', 'VU', 'AZ', 'BN', 'BI', 'KH', 'CM', 'TD', 'KM', 'GQ', 'SZ', 'GA', 'GN', 'KG', 'LA', 'MO', 'MR', 'MN', 'NP', 'RW', 'TG', 'UZ', 'ZW', 'BJ', 'MG', 'MU', 'MZ', 'AO', 'CI', 'DJ', 'ZM', 'CD', 'CG', 'IQ', 'LY', 'TJ', 'VE', 'ET', 'XK'], 'disc_number': 1, 'duration_ms': 266040, 'explicit': False, 'external_ids': {'isrc': 'AUAP08000050'}, 'external_urls': {'spotify': 'https://open.spotify.com/track/6J17MkMmuzBiIOjRH6MOBZ'}, 'href': 'https://api.spotify.com/v1/tracks/6J17MkMmuzBiIOjRH6MOBZ', 'id': '6J17MkMmuzBiIOjRH6MOBZ', 'is_local': False, 'name': \"Rock and Roll Ain't Noise Pollution\", 'popularity': 61, 'preview_url': 'https://p.scdn.co/mp3-preview/48134c10f34bb8e7508d37c611e0267192249e4e?cid=a1b8b2e05e7841f5a25318012c3fffea', 'track_number': 10, 'type': 'track', 'uri': 'spotify:track:6J17MkMmuzBiIOjRH6MOBZ'}:\n",
            "1. Back In Black (Spotify ID: 08mG3Y1vljYA6bvDt4Wqkj, Preview URL: https://p.scdn.co/mp3-preview/81e64fa3a306418f6bb51325a93df0c75ea50d42?cid=a1b8b2e05e7841f5a25318012c3fffea)\n",
            "2. Juke Box Hero (Spotify ID: 00qOE7OjRl0BpYiCiweZB2, Preview URL: https://p.scdn.co/mp3-preview/2353bb343dd4f1872d954b1603587597e9258630?cid=a1b8b2e05e7841f5a25318012c3fffea)\n",
            "3. Rock and Roll - Remaster (Spotify ID: 4PRGxHpCpF2yoOHYKQIEwD, Preview URL: https://p.scdn.co/mp3-preview/9464a064068943a58f673035d9ebe58e98f46bea?cid=a1b8b2e05e7841f5a25318012c3fffea)\n",
            "4. White Wedding - Pt. 1 (Spotify ID: 1gzIbdFnGJ226LTl0Cn2SX, Preview URL: None)\n",
            "5. Life's a Bitch (Spotify ID: 1KyA5lXW7cAgMLwxRdVAu3, Preview URL: https://p.scdn.co/mp3-preview/69453cc433f29d7f1cb53711635dc202bc581b68?cid=a1b8b2e05e7841f5a25318012c3fffea)\n",
            "6. The Pretender (Spotify ID: 7x8dCjCr0x6x2lXKujYD34, Preview URL: https://p.scdn.co/mp3-preview/23a6ace3679431062d5e6f0bc60a514f3a26da4e?cid=a1b8b2e05e7841f5a25318012c3fffea)\n",
            "7. Rock and Roll Ain't Noise Pollution (Spotify ID: 6J17MkMmuzBiIOjRH6MOBZ, Preview URL: https://p.scdn.co/mp3-preview/48134c10f34bb8e7508d37c611e0267192249e4e?cid=a1b8b2e05e7841f5a25318012c3fffea)\n",
            "8. Rollin' Stoned (Spotify ID: 0lmzRoEAZ3OKqnocLC5ByY, Preview URL: https://p.scdn.co/mp3-preview/afac57eb63475c9a5dc6cda2d968ad99c780e41f?cid=a1b8b2e05e7841f5a25318012c3fffea)\n",
            "9. Born To Be Wild (Spotify ID: 3OcsJwdFNp5PI9p9to8FE3, Preview URL: https://p.scdn.co/mp3-preview/bed7738365285b6e760d5cbf38c66125263fa465?cid=a1b8b2e05e7841f5a25318012c3fffea)\n",
            "10. Lonely Is The Night - Remastered 2010 (Spotify ID: 28eg5bkYvIHT7HPmzZFwLN, Preview URL: None)\n"
          ]
        }
      ]
    }
  ]
}
